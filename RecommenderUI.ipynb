{
 "cells": [
  {
   "cell_type": "code",
   "execution_count": null,
   "metadata": {},
   "outputs": [],
   "source": [
    "import tkinter as tk\n",
    "from tkinter import *\n",
    "from PIL import ImageTk, Image"
   ]
  },
  {
   "cell_type": "code",
   "execution_count": null,
   "metadata": {
    "collapsed": true
   },
   "outputs": [],
   "source": [
    "def create_window():\n",
    "    window = Toplevel(root)\n",
    "    window.title(\"Planning your next trip?\")\n",
    "    window.geometry(\"300x300\")\n",
    "    window.configure(background='grey') "
   ]
  },
  {
   "cell_type": "code",
   "execution_count": null,
   "metadata": {},
   "outputs": [],
   "source": [
    "root = Tk()\n",
    "root.title(\"Planning your next trip?\")\n",
    "root.geometry(\"700x700\")\n",
    "root.configure(background='yellow')\n",
    "path = \"US_Travel.jpg\"\n",
    "img = ImageTk.PhotoImage(Image.open(path))\n",
    "label = Label(image=img)\n",
    "label.image = img\n",
    "label.pack(expand = \"yes\")\n"
   ]
  },
  {
   "cell_type": "code",
   "execution_count": null,
   "metadata": {},
   "outputs": [],
   "source": [
    "# master = Tk()\n",
    "# Label(master, text=\"First Name\").grid(row=0)\n",
    "# Label(master, text=\"Last Name\").grid(row=1)\n",
    "\n",
    "# e1 = Entry(master)\n",
    "# e2 = Entry(master)\n",
    "\n",
    "# e1.grid(row=0, column=1)\n",
    "# e2.grid(row=1, column=1)\n",
    "\n",
    "L1 = Label(root, text=\"Enter the name of your favorite tourist spot you have visited and loved!\")\n",
    "L1.pack()\n",
    "E1 = Entry(root, bd =5)\n",
    "E1.pack()"
   ]
  },
  {
   "cell_type": "code",
   "execution_count": null,
   "metadata": {
    "collapsed": true
   },
   "outputs": [],
   "source": [
    "b = Button(root, text=\"Create new window\", command=create_window)\n",
    "b.pack()"
   ]
  },
  {
   "cell_type": "code",
   "execution_count": null,
   "metadata": {
    "collapsed": true
   },
   "outputs": [],
   "source": [
    "variable = StringVar(root)\n",
    "variable.set(\"one\") # default value\n",
    "\n",
    "w = OptionMenu(root, variable, \"one\", \"two\", \"three\")\n",
    "w.pack()\n"
   ]
  },
  {
   "cell_type": "code",
   "execution_count": null,
   "metadata": {
    "collapsed": true
   },
   "outputs": [],
   "source": [
    "root.mainloop()"
   ]
  },
  {
   "cell_type": "code",
   "execution_count": null,
   "metadata": {
    "collapsed": true
   },
   "outputs": [],
   "source": []
  }
 ],
 "metadata": {
  "kernelspec": {
   "display_name": "Python 3",
   "language": "python",
   "name": "python3"
  },
  "language_info": {
   "codemirror_mode": {
    "name": "ipython",
    "version": 3
   },
   "file_extension": ".py",
   "mimetype": "text/x-python",
   "name": "python",
   "nbconvert_exporter": "python",
   "pygments_lexer": "ipython3",
   "version": "3.6.1"
  }
 },
 "nbformat": 4,
 "nbformat_minor": 2
}
