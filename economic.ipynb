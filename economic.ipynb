{
 "cells": [
  {
   "cell_type": "code",
   "execution_count": 57,
   "metadata": {
    "collapsed": true
   },
   "outputs": [],
   "source": [
    "import pandas as pd\n",
    "import numpy as np\n",
    "import geocoder\n",
    "import matplotlib.pyplot as plt\n",
    "import plotly\n",
    "import plotly.plotly as py\n",
    "import plotly.graph_objs as go\n",
    "import pandas as pd\n",
    "from pandas import ExcelWriter\n",
    "from pandas import ExcelFile\n",
    "from pyspark import SparkContext, SparkConf"
   ]
  },
  {
   "cell_type": "code",
   "execution_count": 30,
   "metadata": {
    "collapsed": true
   },
   "outputs": [],
   "source": [
    "conf = SparkConf().setAppName(\"BDA\").setMaster(\"local\")\n",
    "sc = SparkContext(conf=conf)"
   ]
  },
  {
   "cell_type": "code",
   "execution_count": 128,
   "metadata": {},
   "outputs": [],
   "source": [
    "df = pd.read_excel('plotsbdanew.xlsx', sheetname=None)"
   ]
  },
  {
   "cell_type": "code",
   "execution_count": 129,
   "metadata": {},
   "outputs": [],
   "source": [
    "numbers=list(df.items())\n",
    "rdd_numbers=sc.parallelize(numbers)\n",
    "ts_plots=rdd_numbers.map(lambda x: (x[0],(x[1].values)))"
   ]
  },
  {
   "cell_type": "code",
   "execution_count": 130,
   "metadata": {},
   "outputs": [
    {
     "data": {
      "text/plain": [
       "[array([['Percentage growth', 4.33036, 9.24218, 5.95638, 5.81602, 5.0688,\n",
       "         10.0395, -3.73024, -1.96216, 2.02006, 5.99473, 0.861908, 2.84135,\n",
       "         2.43736, 0.385033, -10.0395, -0.461105, 6.30006, 2.94172, 3.09124,\n",
       "         3.14357, 3.55847, 2.76398, 2.30359, 2.87386, 2.9168, 3.03709,\n",
       "         3.16967, 3.28842, 3.29176, 3.23595, 3.20277, 3.0042, 3.19826],\n",
       "        ['Percentage of GDP', 7.78303, 8.19129, 6.30654, 8.41517, 8.44589,\n",
       "         9.92852, 3.51276, 2.19917, 7.136, 8.30919, 8.10958, 8.12373,\n",
       "         8.17624, 5.23228, 3.61694, 2.39427, 7.73628, 8.7908, 7.89896,\n",
       "         7.95853, 8.03339, 8.12601, 8.12918, 8.15599, 8.25058, 8.3645,\n",
       "         8.49141, 8.62986, 8.77191, 8.91306, 9.05952, 9.19313, 9.34491]], dtype=object),\n",
       " array([['Percentage growth', 3.66883, 8.33429, 6.55808, 4.82408, 6.88726,\n",
       "         5.53247, -4.21552, 0.872406, 3.19025, 4.41896, -0.76207, 2.14056,\n",
       "         0.443718, -4.39838, -7.39954, 1.52491, 5.46491, 2.88266, 4.83057,\n",
       "         3.35212, 2.73325, 2.89661, 2.51954, 2.97264, 3.17203, 3.31972,\n",
       "         3.48945, 3.51408, 3.48899, 3.45175, 3.34962, 3.10258, 3.32955],\n",
       "        ['Percentage of GDP', 2.74769, 2.86779, 2.92466, 2.93513, 2.99683,\n",
       "         3.03832, 2.88224, 2.85633, 2.86683, 2.88433, 2.76971, 2.75564,\n",
       "         2.71948, 2.60764, 2.48353, 2.45903, 2.55256, 2.56907, 2.64868,\n",
       "         2.67405, 2.6777, 2.71206, 2.71885, 2.73044, 2.76895, 2.81488,\n",
       "         2.86645, 2.91955, 2.97327, 3.02743, 3.08156, 3.12999, 3.18572]], dtype=object)]"
      ]
     },
     "execution_count": 130,
     "metadata": {},
     "output_type": "execute_result"
    }
   ],
   "source": [
    "ts_plots.map(lambda x: x[1]).collect()"
   ]
  },
  {
   "cell_type": "code",
   "execution_count": 131,
   "metadata": {
    "collapsed": true
   },
   "outputs": [],
   "source": [
    "ts=ts_plots.map(lambda x: [(x[1][i][0], x[1][i][1:]) for i in range (len(x[1]))])"
   ]
  },
  {
   "cell_type": "code",
   "execution_count": 132,
   "metadata": {},
   "outputs": [
    {
     "data": {
      "text/plain": [
       "array([4.33036, 9.24218, 5.95638, 5.81602, 5.0688, 10.0395, -3.73024,\n",
       "       -1.96216, 2.02006, 5.99473, 0.861908, 2.84135, 2.43736, 0.385033,\n",
       "       -10.0395, -0.461105, 6.30006, 2.94172, 3.09124, 3.14357, 3.55847,\n",
       "       2.76398, 2.30359, 2.87386, 2.9168, 3.03709, 3.16967, 3.28842,\n",
       "       3.29176, 3.23595, 3.20277, 3.0042, 3.19826], dtype=object)"
      ]
     },
     "execution_count": 132,
     "metadata": {},
     "output_type": "execute_result"
    }
   ],
   "source": [
    "total_contri=(ts.collect())[0]\n",
    "percent_growth=total_contri[0]\n",
    "percentGDP=total_contri[1]\n",
    "percent_growth[1]"
   ]
  },
  {
   "cell_type": "code",
   "execution_count": 133,
   "metadata": {},
   "outputs": [
    {
     "data": {
      "text/plain": [
       "[array([4.33036, 9.24218, 5.95638, 5.81602, 5.0688, 10.0395, -3.73024,\n",
       "        -1.96216, 2.02006, 5.99473, 0.861908, 2.84135, 2.43736, 0.385033,\n",
       "        -10.0395, -0.461105, 6.30006, 2.94172, 3.09124, 3.14357, 3.55847,\n",
       "        2.76398, 2.30359, 2.87386, 2.9168, 3.03709, 3.16967, 3.28842,\n",
       "        3.29176, 3.23595, 3.20277, 3.0042, 3.19826], dtype=object),\n",
       " array([7.78303, 8.19129, 6.30654, 8.41517, 8.44589, 9.92852, 3.51276,\n",
       "        2.19917, 7.136, 8.30919, 8.10958, 8.12373, 8.17624, 5.23228,\n",
       "        3.61694, 2.39427, 7.73628, 8.7908, 7.89896, 7.95853, 8.03339,\n",
       "        8.12601, 8.12918, 8.15599, 8.25058, 8.3645, 8.49141, 8.62986,\n",
       "        8.77191, 8.91306, 9.05952, 9.19313, 9.34491], dtype=object)]"
      ]
     },
     "execution_count": 133,
     "metadata": {},
     "output_type": "execute_result"
    }
   ],
   "source": [
    "y_data=[]\n",
    "y_data.append(percent_growth[1])\n",
    "y_data.append(percentGDP[1])\n",
    "y_data"
   ]
  },
  {
   "cell_type": "code",
   "execution_count": 134,
   "metadata": {},
   "outputs": [
    {
     "data": {
      "text/html": [
       "<iframe id=\"igraph\" scrolling=\"no\" style=\"border:none;\" seamless=\"seamless\" src=\"https://plot.ly/~alok123t/24.embed\" height=\"525px\" width=\"100%\"></iframe>"
      ],
      "text/plain": [
       "<plotly.tools.PlotlyDisplay object>"
      ]
     },
     "execution_count": 134,
     "metadata": {},
     "output_type": "execute_result"
    }
   ],
   "source": [
    "title = 'Percent Growth of Tourism in United States'\n",
    "names = ['Percentage growth', 'Percentage of GDP']\n",
    "colors = ['red', 'green']\n",
    "mode_size = [8,12]\n",
    "line_size = [4,4]\n",
    "x_data = [\n",
    "    [1995, 1996, 1997, 1998, 1999, 2000, 2001, 2002, 2003, 2004, 2005, 2006, 2007, 2008, 2009, 2010, 2011, 2013, 2014, 2015, 2016, 2017],\n",
    "    [1995, 1996, 1997, 1998, 1999, 2000, 2001, 2002, 2003, 2004, 2005, 2006, 2007, 2008, 2009, 2010, 2011, 2013, 2014, 2015, 2016, 2017],\n",
    "]\n",
    "\n",
    "# y_data = [\n",
    "#     [4.33036, 9.24218, 5.95638, 5.81602, 5.0688, 10.0395, -3.73024,\n",
    "#         -1.96216, 2.02006, 5.99473, 0.861908, 2.84135, 2.43736, 0.385033,\n",
    "#         -10.0395, -0.461105, 6.30006, 2.94172, 3.09124, 3.14357, 3.55847,\n",
    "#         2.76398, 2.30359],\n",
    "#     [7.78303, 8.19129, 8.30654, 8.41517, 8.44589, 8.92852, 8.51276,\n",
    "#         8.19917, 8.136, 8.30919, 8.10958, 8.12373, 8.17624, 8.23228,\n",
    "#         7.61694, 7.39427, 7.73628, 7.7908, 7.89896, 7.95853, 8.03339,\n",
    "#         8.12601, 8.12918],\n",
    "# ]\n",
    "traces = []\n",
    "for i in range(2):\n",
    "    traces.append(go.Scatter(\n",
    "        x=x_data[i],\n",
    "        y=y_data[i],\n",
    "        mode='lines',\n",
    "        line=dict(color=colors[i], width=line_size[i]),\n",
    "        name=names[i],\n",
    "        connectgaps=True,\n",
    "    ))\n",
    "layout = dict(title = 'Growth of Tourism in United States',\n",
    "              xaxis = dict(title = 'Year'),\n",
    "              yaxis = dict(title = ''),\n",
    "              )\n",
    "fig = go.Figure(data=traces,layout=layout)\n",
    "\n",
    "py.iplot(fig, filename='news-source')"
   ]
  },
  {
   "cell_type": "code",
   "execution_count": null,
   "metadata": {
    "collapsed": true
   },
   "outputs": [],
   "source": []
  }
 ],
 "metadata": {
  "kernelspec": {
   "display_name": "Python 3",
   "language": "python",
   "name": "python3"
  },
  "language_info": {
   "codemirror_mode": {
    "name": "ipython",
    "version": 3
   },
   "file_extension": ".py",
   "mimetype": "text/x-python",
   "name": "python",
   "nbconvert_exporter": "python",
   "pygments_lexer": "ipython3",
   "version": "3.6.1"
  }
 },
 "nbformat": 4,
 "nbformat_minor": 2
}
